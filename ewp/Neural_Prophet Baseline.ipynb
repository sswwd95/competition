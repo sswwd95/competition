{
 "cells": [
  {
   "cell_type": "markdown",
   "metadata": {},
   "source": [
    "### 라이브러리 불러오기\n",
    "필요한 라이브러리를 불러옵니다.  \n",
    "설치 방법: https://github.com/ourownstory/neural_prophet"
   ]
  },
  {
   "cell_type": "code",
   "execution_count": 29,
   "metadata": {},
   "outputs": [],
   "source": [
    "import pandas as pd\n",
    "import numpy as np\n",
    "from datetime import datetime\n",
    "from neuralprophet import NeuralProphet"
   ]
  },
  {
   "cell_type": "markdown",
   "metadata": {},
   "source": [
    "### 시간 변환\n",
    "데이터 시간을 1 ~ 24 에서 0 ~ 23 로 변경합니다."
   ]
  },
  {
   "cell_type": "code",
   "execution_count": 31,
   "metadata": {},
   "outputs": [],
   "source": [
    "def convert_time(x):\n",
    "    Ymd, HMS = x.split(' ')\n",
    "    H, M, S = HMS.split(':')\n",
    "    H = str(int(H)-1)\n",
    "    HMS = ':'.join([H, M, S])\n",
    "    return ' '.join([Ymd, HMS])"
   ]
  },
  {
   "cell_type": "markdown",
   "metadata": {},
   "source": [
    "### 데이터 불러오기"
   ]
  },
  {
   "cell_type": "code",
   "execution_count": 33,
   "metadata": {},
   "outputs": [],
   "source": [
    "# 데이터 불러오기\n",
    "train_data = pd.read_csv('A:\\study\\data\\ewp\\energy.csv')\n",
    "# 시간 변환\n",
    "train_data['time'] = train_data['time'].apply(lambda x:convert_time(x))"
   ]
  },
  {
   "cell_type": "markdown",
   "metadata": {},
   "source": [
    "### 훈련 데이터 만들기\n",
    "ds = 시간, y = 데이터"
   ]
  },
  {
   "cell_type": "code",
   "execution_count": 35,
   "metadata": {},
   "outputs": [],
   "source": [
    "column = 'dangjin_floating'\n",
    "df = pd.DataFrame()\n",
    "df['ds'] = train_data['time']\n",
    "df['y'] = train_data[column]"
   ]
  },
  {
   "cell_type": "markdown",
   "metadata": {},
   "source": [
    "### 훈련 및 예측"
   ]
  },
  {
   "cell_type": "code",
   "execution_count": 37,
   "metadata": {},
   "outputs": [
    {
     "output_type": "stream",
     "name": "stderr",
     "text": [
      "INFO - (NP.forecaster._handle_missing_data) - dropped 24 NAN row in 'y'\n",
      "INFO - (NP.config.set_auto_batch_epoch) - Auto-set batch_size to 64\n",
      "INFO - (NP.config.set_auto_batch_epoch) - Auto-set epochs to 61\n",
      " 90%|█████████ | 289/320 [00:03<00:00, 92.37it/s]\n",
      "INFO - (NP.utils_torch.lr_range_test) - lr-range-test results: steep: 9.86E-02, min: 5.90E-01\n",
      "INFO - (NP.utils_torch.lr_range_test) - learning rate range test selected lr: 3.25E-01\n",
      "Epoch[61/61]: 100%|██████████| 61/61 [00:40<00:00,  1.50it/s, SmoothL1Loss=0.0161, MAE=67.7, MSE=1.04e+4, RegLoss=0]\n"
     ]
    }
   ],
   "source": [
    "# 모델 설정\n",
    "model = NeuralProphet()\n",
    "# 훈련\n",
    "loss = model.fit(df, freq=\"H\")\n",
    "# 예측용 데이터 프레임 만들기\n",
    "df_pred = model.make_future_dataframe(df, periods=18000)\n",
    "# 예측\n",
    "predict = model.predict(df_pred)"
   ]
  },
  {
   "cell_type": "markdown",
   "metadata": {},
   "source": [
    "### 제출 파일 생성"
   ]
  },
  {
   "cell_type": "code",
   "execution_count": 39,
   "metadata": {},
   "outputs": [],
   "source": [
    "submission = pd.read_csv('A:\\study\\data\\ewp\\sample_submission.csv')"
   ]
  },
  {
   "cell_type": "code",
   "execution_count": 40,
   "metadata": {},
   "outputs": [],
   "source": [
    "# 2021-02-01 ~ 2021-03-01\n",
    "predict_1 = predict.copy()\n",
    "predict_1 = predict_1.query('ds >= \"2021-02-01 00:00:00\"')\n",
    "predict_1 = predict_1.query('ds < \"2021-03-01 00:00:00\"')\n",
    "\n",
    "# 2021-06-09 ~ 2021-07-09\n",
    "predict_2 = predict.copy()\n",
    "predict_2 = predict_2.query('ds >= \"2021-06-09 00:00:00\"')\n",
    "predict_2 = predict_2.query('ds < \"2021-07-09 00:00:00\"')\n",
    "\n",
    "# 제출 파일 업데이트\n",
    "submission[column] = list(predict_1['yhat1']) + list(predict_2['yhat1'])"
   ]
  },
  {
   "cell_type": "code",
   "execution_count": 41,
   "metadata": {},
   "outputs": [
    {
     "output_type": "execute_result",
     "data": {
      "text/plain": [
       "                  time  dangjin_floating  dangjin_warehouse  dangjin  ulsan\n",
       "0  2021-02-01 01:00:00        -29.988970                  0        0      0\n",
       "1  2021-02-01 02:00:00        -28.068808                  0        0      0\n",
       "2  2021-02-01 03:00:00        -27.118706                  0        0      0\n",
       "3  2021-02-01 04:00:00        -28.068150                  0        0      0\n",
       "4  2021-02-01 05:00:00        -28.209770                  0        0      0"
      ],
      "text/html": "<div>\n<style scoped>\n    .dataframe tbody tr th:only-of-type {\n        vertical-align: middle;\n    }\n\n    .dataframe tbody tr th {\n        vertical-align: top;\n    }\n\n    .dataframe thead th {\n        text-align: right;\n    }\n</style>\n<table border=\"1\" class=\"dataframe\">\n  <thead>\n    <tr style=\"text-align: right;\">\n      <th></th>\n      <th>time</th>\n      <th>dangjin_floating</th>\n      <th>dangjin_warehouse</th>\n      <th>dangjin</th>\n      <th>ulsan</th>\n    </tr>\n  </thead>\n  <tbody>\n    <tr>\n      <th>0</th>\n      <td>2021-02-01 01:00:00</td>\n      <td>-29.988970</td>\n      <td>0</td>\n      <td>0</td>\n      <td>0</td>\n    </tr>\n    <tr>\n      <th>1</th>\n      <td>2021-02-01 02:00:00</td>\n      <td>-28.068808</td>\n      <td>0</td>\n      <td>0</td>\n      <td>0</td>\n    </tr>\n    <tr>\n      <th>2</th>\n      <td>2021-02-01 03:00:00</td>\n      <td>-27.118706</td>\n      <td>0</td>\n      <td>0</td>\n      <td>0</td>\n    </tr>\n    <tr>\n      <th>3</th>\n      <td>2021-02-01 04:00:00</td>\n      <td>-28.068150</td>\n      <td>0</td>\n      <td>0</td>\n      <td>0</td>\n    </tr>\n    <tr>\n      <th>4</th>\n      <td>2021-02-01 05:00:00</td>\n      <td>-28.209770</td>\n      <td>0</td>\n      <td>0</td>\n      <td>0</td>\n    </tr>\n  </tbody>\n</table>\n</div>"
     },
     "metadata": {},
     "execution_count": 41
    }
   ],
   "source": [
    "submission.head()"
   ]
  }
 ],
 "metadata": {
  "kernelspec": {
   "name": "python385jvsc74a57bd0bde2623a79e5706d0e50d698541bb0bfe665e81d3c33e5c92ae44e005ab5b23b",
   "display_name": "Python 3.8.5 64-bit ('ewp': conda)"
  },
  "language_info": {
   "codemirror_mode": {
    "name": "ipython",
    "version": 3
   },
   "file_extension": ".py",
   "mimetype": "text/x-python",
   "name": "python",
   "nbconvert_exporter": "python",
   "pygments_lexer": "ipython3",
   "version": "3.8.5-final"
  },
  "metadata": {
   "interpreter": {
    "hash": "96ab7e16360d46049635c1aa173a035e0a195c681ee9467577397e3ae1599025"
   }
  }
 },
 "nbformat": 4,
 "nbformat_minor": 4
}